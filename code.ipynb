{
 "cells": [
  {
   "cell_type": "code",
   "execution_count": 35,
   "id": "826505ac",
   "metadata": {},
   "outputs": [],
   "source": [
    "import pandas as pd\n",
    "import numpy as np\n",
    "from sklearn.feature_extraction.text import CountVectorizer\n",
    "from sklearn.model_selection import train_test_split\n",
    "from sklearn.naive_bayes import MultinomialNB"
   ]
  },
  {
   "cell_type": "code",
   "execution_count": 45,
   "id": "bf83e488",
   "metadata": {},
   "outputs": [
    {
     "name": "stdout",
     "output_type": "stream",
     "text": [
      "    Language                                               Text\n",
      "0  Bulgarian                Състав на Парламента: вж. протоколи\n",
      "1  Bulgarian  Одобряване на протокола от предишното заседани...\n",
      "2  Bulgarian                Състав на Парламента: вж. протоколи\n",
      "3  Bulgarian            Проверка на пълномощията: вж. протоколи\n",
      "4  Bulgarian                Внасяне на документи: вж. протоколи\n"
     ]
    }
   ],
   "source": [
    "data = pd.read_csv('data.csv')\n",
    "X = data['Text']\n",
    "y = data['Language']\n",
    "print(data.head())"
   ]
  },
  {
   "cell_type": "code",
   "execution_count": 46,
   "id": "60e9fc14",
   "metadata": {},
   "outputs": [
    {
     "data": {
      "text/plain": [
       "English        40000\n",
       "Dutch          39994\n",
       "Swedish        39990\n",
       "Danish         39990\n",
       "Portuguesse    39990\n",
       "Italian        39986\n",
       "German         39986\n",
       "Greek          39986\n",
       "Spanish        39986\n",
       "French         39986\n",
       "Bulgarian      39969\n",
       "Finnish        39969\n",
       "Czech          39638\n",
       "Slovene        39392\n",
       "Lithuanian     39371\n",
       "Estonian       39198\n",
       "Latvian        39091\n",
       "Romanian       39080\n",
       "Slovak         38924\n",
       "Polish         38919\n",
       "Hungarian      38829\n",
       "Name: Language, dtype: int64"
      ]
     },
     "execution_count": 46,
     "metadata": {},
     "output_type": "execute_result"
    }
   ],
   "source": [
    "data[\"Language\"].value_counts()"
   ]
  },
  {
   "cell_type": "code",
   "execution_count": 47,
   "id": "fa25b4e0",
   "metadata": {},
   "outputs": [],
   "source": [
    "cv = CountVectorizer()\n",
    "x = cv.fit_transform(X)\n",
    "X_train, X_test,y_train, y_test = train_test_split(x,y ,random_state=104,test_size=0.25, shuffle=True)"
   ]
  },
  {
   "cell_type": "code",
   "execution_count": 48,
   "id": "14913c43",
   "metadata": {},
   "outputs": [
    {
     "data": {
      "text/plain": [
       "0.9913201870533332"
      ]
     },
     "execution_count": 48,
     "metadata": {},
     "output_type": "execute_result"
    }
   ],
   "source": [
    "model = MultinomialNB()\n",
    "model.fit(X_train,y_train)\n",
    "model.score(X_test,y_test)"
   ]
  },
  {
   "cell_type": "code",
   "execution_count": 49,
   "id": "fe8cc238",
   "metadata": {},
   "outputs": [
    {
     "name": "stdout",
     "output_type": "stream",
     "text": [
      "Enter a Text: здравейте, казвам се зоро\n",
      "['Bulgarian']\n"
     ]
    }
   ],
   "source": [
    "user = input(\"Enter a Text: \")\n",
    "data = cv.transform([user]).toarray()\n",
    "output = model.predict(data)\n",
    "print(output)"
   ]
  },
  {
   "cell_type": "code",
   "execution_count": null,
   "id": "e79eb818",
   "metadata": {},
   "outputs": [],
   "source": []
  }
 ],
 "metadata": {
  "kernelspec": {
   "display_name": "Python 3 (ipykernel)",
   "language": "python",
   "name": "python3"
  },
  "language_info": {
   "codemirror_mode": {
    "name": "ipython",
    "version": 3
   },
   "file_extension": ".py",
   "mimetype": "text/x-python",
   "name": "python",
   "nbconvert_exporter": "python",
   "pygments_lexer": "ipython3",
   "version": "3.8.16"
  }
 },
 "nbformat": 4,
 "nbformat_minor": 5
}
